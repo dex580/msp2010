{
  "nbformat": 4,
  "nbformat_minor": 0,
  "metadata": {
    "colab": {
      "provenance": [],
      "collapsed_sections": [
        "GuifbTUp9_B9",
        "VmPYt160ipjt",
        "Sr1-wt4Difat"
      ]
    },
    "kernelspec": {
      "name": "python3",
      "display_name": "Python 3"
    },
    "language_info": {
      "name": "python"
    }
  },
  "cells": [
    {
      "cell_type": "markdown",
      "source": [
        "# **Instalar Java**"
      ],
      "metadata": {
        "id": "GuifbTUp9_B9"
      }
    },
    {
      "cell_type": "code",
      "source": [
        "!apt update && apt install -y openjdk-17-jre-headless"
      ],
      "metadata": {
        "id": "S2aOpwZX-E4l"
      },
      "execution_count": null,
      "outputs": []
    },
    {
      "cell_type": "markdown",
      "source": [
        "# **Instalar Playit**"
      ],
      "metadata": {
        "id": "VmPYt160ipjt"
      }
    },
    {
      "cell_type": "code",
      "source": [
        "!curl -SsL https://playit-cloud.github.io/ppa/key.gpg | gpg --dearmor | sudo tee /etc/apt/trusted.gpg.d/playit.gpg >/dev/null\n",
        "!echo \"deb [signed-by=/etc/apt/trusted.gpg.d/playit.gpg] https://playit-cloud.github.io/ppa/data ./\" | sudo tee /etc/apt/sources.list.d/playit-cloud.list\n",
        "!sudo apt update\n",
        "!sudo apt install playit\n",
        "!playit setup"
      ],
      "metadata": {
        "id": "k-OS452M3F0q"
      },
      "execution_count": null,
      "outputs": []
    },
    {
      "cell_type": "markdown",
      "source": [
        "# **Montar Unidad de Google Drive**"
      ],
      "metadata": {
        "id": "Sr1-wt4Difat"
      }
    },
    {
      "cell_type": "code",
      "source": [
        "from google.colab import drive\n",
        "drive.mount('/content/drive')"
      ],
      "metadata": {
        "id": "GHcBPx__iutb"
      },
      "execution_count": null,
      "outputs": []
    },
    {
      "cell_type": "markdown",
      "source": [
        "# **Iniciar Servidor**"
      ],
      "metadata": {
        "id": "edN8LcRgke-N"
      }
    },
    {
      "cell_type": "markdown",
      "source": [
        "Remplaza este directorio con el tuyo:\n",
        "`\"/content/drive/MyDrive/Minecraft-Server\"`\n",
        "\n",
        "Para descargar archivos de servidor puedes ir a:\n",
        "https://mcversions.net/"
      ],
      "metadata": {
        "id": "WZnwLUL0C5eQ"
      }
    },
    {
      "cell_type": "code",
      "source": [
        "import subprocess\n",
        "import os\n",
        "\n",
        "os.chdir(\"/content/drive/MyDrive/Minecraft-Server\")\n",
        "\n",
        "!echo eula=true > eula.txt\n",
        "!playit > /dev/null 2>&1 & java -Xms1024m -Xmx1024m -jar server.jar"
      ],
      "metadata": {
        "id": "3DbmeRkTUbbO"
      },
      "execution_count": null,
      "outputs": []
    }
  ]
}